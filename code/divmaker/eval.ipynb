{
 "cells": [
  {
   "cell_type": "markdown",
   "metadata": {},
   "source": [
    "# Evaluation of divmakers models\n",
    "\n",
    "In this notebook we evaluate the performance of models trained using the divmakers repository - using SimCLR and Divmaker objectives\n",
    "\n",
    "to use this notebook you need the `divmaker` environment - python 3.9 is required"
   ]
  },
  {
   "cell_type": "code",
   "execution_count": 1,
   "metadata": {},
   "outputs": [],
   "source": [
    "import os\n",
    "import torch\n",
    "from pathlib import Path\n",
    "import sys\n",
    "sys.path.append(\"..\")"
   ]
  },
  {
   "cell_type": "code",
   "execution_count": 2,
   "metadata": {},
   "outputs": [],
   "source": [
    "import numpy as np\n",
    "import pandas as pd\n",
    "from time import time\n",
    "from tqdm import tqdm\n",
    "from pathlib import Path\n"
   ]
  },
  {
   "cell_type": "code",
   "execution_count": 3,
   "metadata": {},
   "outputs": [],
   "source": [
    "import os\n",
    "from osgeo import gdal\n",
    "import imageio\n",
    "import numpy as np\n",
    "\n",
    "from time import time\n",
    "from collections import Counter\n",
    "from sklearn.preprocessing import StandardScaler\n",
    "from sklearn.decomposition import PCA\n"
   ]
  },
  {
   "cell_type": "code",
   "execution_count": 4,
   "metadata": {},
   "outputs": [],
   "source": [
    "import os\n",
    "from copy import deepcopy\n",
    "import src.systems as systems\n",
    "from src.utils.utils import load_json\n",
    "from src.utils.setup import process_config\n",
    "import random, torch, numpy\n",
    "import torch.multiprocessing\n",
    "torch.multiprocessing.set_sharing_strategy('file_system')\n",
    "\n",
    "from pathlib import Path\n",
    "\n",
    "\n",
    "import pytorch_lightning as pl\n",
    "from pytorch_lightning.loggers import WandbLogger\n",
    "import wandb\n",
    "\n",
    "torch.backends.cudnn.benchmark = True\n",
    "\n",
    "SYSTEM = {\n",
    "    'PretrainSystem': systems.PretrainSystem,\n",
    "    'PretrainDivMakerSystem': systems.PretrainDivMakerSystem,\n",
    "    'LinearSystem': systems.LinearSystem,\n",
    "    'DefaultSystem': systems.DefaultSystem,\n",
    "    'TransferSystem': systems.TransferSystem,\n",
    "    'TransferBigEarthNetSystem': systems.TransferBigEarthNetSystem,\n",
    "    'TransferDefaultSystem': systems.TransferDefaultSystem,\n",
    "}"
   ]
  },
  {
   "cell_type": "code",
   "execution_count": 14,
   "metadata": {},
   "outputs": [],
   "source": [
    "def load_from_config(config_str, checkpoint_name=None):\n",
    "    gpu_device = 0\n",
    "    \n",
    "    if gpu_device == 'cpu' or not gpu_device:\n",
    "        gpu_device = None\n",
    "    config = process_config(config_str)\n",
    "    if gpu_device: \n",
    "        config.gpu_device = gpu_device\n",
    "    SystemClass = SYSTEM[config.system]\n",
    "\n",
    "    system = SystemClass(config)\n",
    "\n",
    "    if config.optim_params.scheduler:\n",
    "            lr_callback = globals()[config.optim_params.scheduler](\n",
    "                initial_lr=config.optim_params.learning_rate,\n",
    "                max_epochs=config.num_epochs,\n",
    "                schedule=(\n",
    "                    int(0.6*config.num_epochs),\n",
    "                    int(0.8*config.num_epochs),\n",
    "                ),\n",
    "            )\n",
    "            callbacks = [lr_callback]\n",
    "    else:\n",
    "        callbacks = []\n",
    "\n",
    "    ckpt_callback = pl.callbacks.ModelCheckpoint(\n",
    "        os.path.join(config.exp_dir, 'checkpoints'),\n",
    "        save_top_k=-1,\n",
    "        every_n_epochs=1,\n",
    "    )\n",
    "    callbacks.append(ckpt_callback)\n",
    "    \n",
    "    gpu_device = 1\n",
    "    \n",
    "    if gpu_device: config.gpu_device = gpu_device\n",
    "\n",
    "    callbacks.append(ckpt_callback)\n",
    "    wandb_logger = WandbLogger(project='image_viewmaker', name=config.exp_name, config=config, sync_tensorboard=True)\n",
    "    trainer = pl.Trainer(\n",
    "            default_root_dir=config.exp_dir,\n",
    "            gpus=gpu_device,\n",
    "            max_epochs=config.num_epochs,\n",
    "            min_epochs=config.num_epochs,\n",
    "            checkpoint_callback=True,\n",
    "            resume_from_checkpoint=config.continue_from_checkpoint,\n",
    "            precision=config.optim_params.precision or 32,\n",
    "            callbacks=callbacks,\n",
    "            val_check_interval=config.val_check_interval or 1.0,\n",
    "            limit_val_batches=config.limit_val_batches or 1.0,\n",
    "            logger=wandb_logger,\n",
    "        )\n",
    "    \n",
    "    if checkpoint_name:\n",
    "        ckpt_path = Path(config.checkpoint_dir) / checkpoint_name\n",
    "    else:   \n",
    "        ckpt_path = Path(config.checkpoint_dir) / config.pretrain_model.checkpoint_name\n",
    "    \n",
    "    SystemClass = SYSTEM[config.system]\n",
    "    \n",
    "    system = SystemClass.load_from_checkpoint(ckpt_path, config=config)\n",
    "\n",
    "        \n",
    "    system.cuda()\n",
    "    system.eval()\n",
    "    return system"
   ]
  },
  {
   "cell_type": "code",
   "execution_count": 15,
   "metadata": {},
   "outputs": [],
   "source": [
    "cuda = torch.cuda.is_available()\n",
    "\n",
    "def create_embeddings_divmaker(model, \n",
    "                               dataset,\n",
    "                               z_dim=512):\n",
    "      \n",
    "\n",
    "    X = np.zeros((len(dataset), z_dim))\n",
    "    y = np.zeros(len(dataset))\n",
    "    \n",
    "    t0 = time()\n",
    "    # this solution to iterate over examples is very suboptimal, one should use torch dataset\n",
    "    for index, item in enumerate(tqdm(dataset)):\n",
    "        # read the tile from provided filepath\n",
    "        \n",
    "        \n",
    "        tile = item[0].unsqueeze(0)\n",
    "        if cuda: \n",
    "            tile = tile.cuda()\n",
    "            \n",
    "        \n",
    "        z = model.model(tile)\n",
    "        if cuda: \n",
    "            z = z.cpu()\n",
    "        z = z.data.numpy()\n",
    "        y[index] = item[1]\n",
    "        X[index,:] = z\n",
    "\n",
    "    t1 = time()\n",
    "    print('Embedded {} tiles: {:0.3f}s'.format(len(dataset), t1-t0))\n",
    "    \n",
    "    return X, y"
   ]
  },
  {
   "cell_type": "code",
   "execution_count": 16,
   "metadata": {},
   "outputs": [],
   "source": [
    "from sklearn.ensemble import RandomForestClassifier\n",
    "from sklearn.model_selection import train_test_split\n",
    "from sklearn.ensemble import RandomForestClassifier\n",
    "from sklearn.model_selection import cross_val_score\n",
    "\n",
    "from sklearn.metrics import confusion_matrix\n",
    "import matplotlib.pyplot as plt\n",
    "\n",
    "from sklearn.linear_model import LogisticRegression\n",
    "lr = LogisticRegression()\n",
    "\n",
    "rf = RandomForestClassifier()\n",
    "\n",
    "def compare_results(X, y, model, folds = 5, model_name = \"\"):\n",
    "    # simple method to evaluate performance of model using cross validation\n",
    "    if model_name == \"\":\n",
    "        model_name = model.__class__.__name__\n",
    "    \n",
    "    scores = cross_val_score(rf, X, y, cv=folds)\n",
    "    print(\"Averaged accuracy for model {}: {:.2f}±{:.2f}%\".format(model_name, scores.mean()*100, scores.std()*100))"
   ]
  },
  {
   "cell_type": "code",
   "execution_count": 17,
   "metadata": {},
   "outputs": [],
   "source": [
    "from src.datasets import datasets"
   ]
  },
  {
   "cell_type": "code",
   "execution_count": 22,
   "metadata": {},
   "outputs": [
    {
     "name": "stderr",
     "output_type": "stream",
     "text": [
      "[INFO]: Configurations and directories successfully set up.\n",
      "[INFO]: Configurations and directories successfully set up.\n",
      "[INFO]: Configurations and directories successfully set up.\n",
      "[INFO]: Configurations and directories successfully set up.\n",
      "[INFO]: Configurations and directories successfully set up.\n",
      "[INFO]: Configurations and directories successfully set up.\n",
      "[INFO]: Configurations and directories successfully set up.\n"
     ]
    },
    {
     "name": "stdout",
     "output_type": "stream",
     "text": [
      "Loaded configuration: \n",
      "{'continue_from_checkpoint': None,\n",
      " 'copy_checkpoint_freq': 5,\n",
      " 'cuda': True,\n",
      " 'data_loader_workers': 16,\n",
      " 'data_params': {'dataset': 'eurosat',\n",
      "                 'default_augmentations': 'all',\n",
      "                 'resize_imagenet_to_32': True},\n",
      " 'distributed_backend': 'dp',\n",
      " 'exp_base': '/storage/divmaker/',\n",
      " 'exp_name': 'pretrain_eurosat_simclr',\n",
      " 'gpu_device': 0,\n",
      " 'loss_params': DotMap(t=0.07, name='simclr'),\n",
      " 'model_params': {'num_res_blocks': 3,\n",
      "                  'out_dim': 512,\n",
      "                  'projection_head': False,\n",
      "                  'resnet': True,\n",
      "                  'resnet_small': True,\n",
      "                  'resnet_version': 'resnet18'},\n",
      " 'num_epochs': 200,\n",
      " 'optim_params': {'batch_size': 256,\n",
      "                  'learning_rate': 0.03,\n",
      "                  'momentum': 0.9,\n",
      "                  'num_view_update': 1,\n",
      "                  'patience': 10,\n",
      "                  'validate_freq': 1,\n",
      "                  'weight_decay': 0.0001},\n",
      " 'pretrain_model': {'checkpoint_name': 'epoch=199-step=17199.ckpt',\n",
      "                    'exp_dir': None},\n",
      " 'seed': 24601,\n",
      " 'system': 'DefaultSystem',\n",
      " 'validate': True}\n",
      "\n",
      " *************************************** \n",
      "      Running experiment pretrain_eurosat_simclr\n",
      " *************************************** \n",
      "\n",
      "Loaded configuration: \n",
      "{'continue_from_checkpoint': None,\n",
      " 'copy_checkpoint_freq': 5,\n",
      " 'cuda': True,\n",
      " 'data_loader_workers': 16,\n",
      " 'data_params': {'dataset': 'eurosat',\n",
      "                 'default_augmentations': 'all',\n",
      "                 'resize_imagenet_to_32': True},\n",
      " 'distributed_backend': 'dp',\n",
      " 'exp_base': '/storage/divmaker/',\n",
      " 'exp_name': 'pretrain_eurosat_simclr',\n",
      " 'gpu_device': 0,\n",
      " 'loss_params': DotMap(t=0.07, name='simclr'),\n",
      " 'model_params': {'num_res_blocks': 3,\n",
      "                  'out_dim': 512,\n",
      "                  'projection_head': False,\n",
      "                  'resnet': True,\n",
      "                  'resnet_small': True,\n",
      "                  'resnet_version': 'resnet18'},\n",
      " 'num_epochs': 200,\n",
      " 'optim_params': {'batch_size': 256,\n",
      "                  'learning_rate': 0.03,\n",
      "                  'momentum': 0.9,\n",
      "                  'num_view_update': 1,\n",
      "                  'patience': 10,\n",
      "                  'validate_freq': 1,\n",
      "                  'weight_decay': 0.0001},\n",
      " 'pretrain_model': {'checkpoint_name': 'epoch=199-step=17199.ckpt',\n",
      "                    'exp_dir': None},\n",
      " 'seed': 24601,\n",
      " 'system': 'DefaultSystem',\n",
      " 'validate': True}\n",
      "\n",
      " *************************************** \n",
      "      Running experiment pretrain_eurosat_simclr\n",
      " *************************************** \n",
      "\n"
     ]
    },
    {
     "name": "stderr",
     "output_type": "stream",
     "text": [
      "GPU available: True, used: True\n",
      "TPU available: False, using: 0 TPU cores\n",
      "IPU available: False, using: 0 IPUs\n"
     ]
    }
   ],
   "source": [
    "config_str = \"config/eurosat/default_eurosat_simclr_eval.json\"\n",
    "\n",
    "config = process_config(config_str)\n",
    "\n",
    "system = load_from_config(config_str, checkpoint_name=\"epoch=199-step=17199.ckpt\")"
   ]
  },
  {
   "cell_type": "code",
   "execution_count": 23,
   "metadata": {},
   "outputs": [],
   "source": [
    "train_dataset, val_dataset = datasets.get_image_datasets(\n",
    "            config.data_params.dataset,\n",
    "            default_augmentations=config.data_params.default_augmentations or False,\n",
    "            resize_imagenet_to_32=config.data_params.resize_imagenet_to_32 or False,\n",
    "            mask=False,  # Don't mask during transfer.\n",
    "            zscore=config.data_params.zscore or False,\n",
    "        )"
   ]
  },
  {
   "cell_type": "code",
   "execution_count": 24,
   "metadata": {},
   "outputs": [
    {
     "name": "stderr",
     "output_type": "stream",
     "text": [
      "100%|██████████| 5520/5520 [00:20<00:00, 266.90it/s]"
     ]
    },
    {
     "name": "stdout",
     "output_type": "stream",
     "text": [
      "Embedded 5520 tiles: 20.686s\n"
     ]
    },
    {
     "name": "stderr",
     "output_type": "stream",
     "text": [
      "\n"
     ]
    }
   ],
   "source": [
    "X, y = create_embeddings_divmaker(system, val_dataset.dataset)\n"
   ]
  },
  {
   "cell_type": "code",
   "execution_count": 25,
   "metadata": {},
   "outputs": [
    {
     "name": "stdout",
     "output_type": "stream",
     "text": [
      "Averaged accuracy for model RandomForestClassifier: 86.49±0.61%\n"
     ]
    }
   ],
   "source": [
    "compare_results(X, y, rf, folds = 5)"
   ]
  },
  {
   "cell_type": "markdown",
   "metadata": {},
   "source": [
    "## Divmaker training"
   ]
  },
  {
   "cell_type": "code",
   "execution_count": 26,
   "metadata": {},
   "outputs": [],
   "source": [
    "config_str = \"config/eurosat/pretrain_eurosat_simclr_L1_forced.json\""
   ]
  },
  {
   "cell_type": "code",
   "execution_count": 27,
   "metadata": {},
   "outputs": [
    {
     "name": "stderr",
     "output_type": "stream",
     "text": [
      "[INFO]: Configurations and directories successfully set up.\n",
      "[INFO]: Configurations and directories successfully set up.\n",
      "[INFO]: Configurations and directories successfully set up.\n",
      "[INFO]: Configurations and directories successfully set up.\n",
      "[INFO]: Configurations and directories successfully set up.\n"
     ]
    },
    {
     "name": "stdout",
     "output_type": "stream",
     "text": [
      "Loaded configuration: \n",
      "{'continue_from_checkpoint': None,\n",
      " 'copy_checkpoint_freq': 5,\n",
      " 'cuda': True,\n",
      " 'data_loader_workers': 8,\n",
      " 'data_params': {'dataset': 'eurosat',\n",
      "                 'normalize_before_view': True,\n",
      "                 'resize_imagenet_to_32': True},\n",
      " 'distributed_backend': 'dp',\n",
      " 'exp_base': '/storage/divmaker/',\n",
      " 'exp_name': 'pretrain_eurosat_simclr_L1_forced_budget_0.2',\n",
      " 'gpu_device': 0,\n",
      " 'loss_params': {'objective': 'AdversarialSimCLRLoss',\n",
      "                 't': 0.07,\n",
      "                 'view_maker_loss_weight': 1},\n",
      " 'model_params': {'clamp_views': False,\n",
      "                  'noise_dim': 100,\n",
      "                  'num_res_blocks': 3,\n",
      "                  'out_dim': 128,\n",
      "                  'projection_head': False,\n",
      "                  'resnet': True,\n",
      "                  'resnet_small': True,\n",
      "                  'resnet_version': 'resnet18',\n",
      "                  'symmetric_clamp': True,\n",
      "                  'view_L1_forced': True,\n",
      "                  'view_bound_magnitude': 0.2,\n",
      "                  'view_clip_num_std': 3,\n",
      "                  'viewmaker_optim': 'adam'},\n",
      " 'num_epochs': 100,\n",
      " 'optim_params': {'batch_size': 256,\n",
      "                  'learning_rate': 0.03,\n",
      "                  'momentum': 0.9,\n",
      "                  'num_view_update': 1,\n",
      "                  'patience': 10,\n",
      "                  'validate_freq': 1,\n",
      "                  'viewmaker_optim': 'adam',\n",
      "                  'weight_decay': 0.0001},\n",
      " 'seed': 24601,\n",
      " 'system': 'PretrainSystem',\n",
      " 'validate': True}\n",
      "\n",
      " *************************************** \n",
      "      Running experiment pretrain_eurosat_simclr_L1_forced_budget_0.2\n",
      " *************************************** \n",
      "\n",
      "Using AdversarialSimCLRLoss\n"
     ]
    },
    {
     "name": "stderr",
     "output_type": "stream",
     "text": [
      "/home/tymek/.conda/envs/divmaker/lib/python3.9/site-packages/pytorch_lightning/callbacks/model_checkpoint.py:446: UserWarning: Checkpoint directory /storage/divmaker/experiments/pretrain_eurosat_simclr_L1_forced_budget_0.2/checkpoints exists and is not empty.\n",
      "  rank_zero_warn(f\"Checkpoint directory {dirpath} exists and is not empty.\")\n",
      "GPU available: True, used: True\n",
      "TPU available: False, using: 0 TPU cores\n",
      "IPU available: False, using: 0 IPUs\n"
     ]
    },
    {
     "name": "stdout",
     "output_type": "stream",
     "text": [
      "Set up viewmaker model with bound magnitude: 0.2, divmaker: False\n",
      "Using AdversarialSimCLRLoss\n",
      "Set up viewmaker model with bound magnitude: 0.2, divmaker: False\n"
     ]
    }
   ],
   "source": [
    "system = load_from_config(config_str, \"epoch=199-step=17199.ckpt\")"
   ]
  },
  {
   "cell_type": "code",
   "execution_count": 28,
   "metadata": {},
   "outputs": [
    {
     "name": "stderr",
     "output_type": "stream",
     "text": [
      "100%|██████████| 5520/5520 [00:19<00:00, 290.50it/s]"
     ]
    },
    {
     "name": "stdout",
     "output_type": "stream",
     "text": [
      "Embedded 5520 tiles: 19.005s\n"
     ]
    },
    {
     "name": "stderr",
     "output_type": "stream",
     "text": [
      "\n"
     ]
    }
   ],
   "source": [
    "X, y = create_embeddings_divmaker(system, val_dataset.dataset, z_dim=128)\n"
   ]
  },
  {
   "cell_type": "code",
   "execution_count": 29,
   "metadata": {},
   "outputs": [
    {
     "name": "stdout",
     "output_type": "stream",
     "text": [
      "Averaged accuracy for model RandomForestClassifier: 94.24±0.42%\n"
     ]
    }
   ],
   "source": [
    "compare_results(X, y, rf, folds = 5)"
   ]
  },
  {
   "cell_type": "code",
   "execution_count": null,
   "metadata": {},
   "outputs": [],
   "source": []
  }
 ],
 "metadata": {
  "kernelspec": {
   "display_name": "divmaker",
   "language": "python",
   "name": "python3"
  },
  "language_info": {
   "codemirror_mode": {
    "name": "ipython",
    "version": 3
   },
   "file_extension": ".py",
   "mimetype": "text/x-python",
   "name": "python",
   "nbconvert_exporter": "python",
   "pygments_lexer": "ipython3",
   "version": "3.9.19"
  }
 },
 "nbformat": 4,
 "nbformat_minor": 2
}
