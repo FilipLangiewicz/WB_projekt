{
 "cells": [
  {
   "cell_type": "markdown",
   "metadata": {},
   "source": [
    "# **Applying the Tile2vec model to the Eurosat dataset in the multispectral variant**"
   ]
  },
  {
   "cell_type": "markdown",
   "metadata": {},
   "source": [
    "We downloaded dataset from https://www.kaggle.com/datasets/apollo2506/eurosat-dataset."
   ]
  },
  {
   "cell_type": "markdown",
   "metadata": {},
   "source": [
    "## About dataset\n",
    "\n",
    "The data in the **EuroSat** dataset come from the Sentinel-2 satellite series, which are part of the European Space Agency's (ESA) program known as Copernicus. Sentinel-2 is a set of Earth observation satellites that collect multispectral images of the Earth, providing high-resolution spatial and spectral imaging.\n",
    "\n",
    "The European Space Agency (ESA) monitors the Earth using its Sentinel satellites, gathering data on various aspects of the environment, including land use, changes in vegetation cover, water quality, climate change, etc. These data are publicly available for scientific, research, and engineering purposes.\n",
    "\n",
    "The **EuroSat** dataset is a collection of geospatial images obtained from the Sentinel-2 satellite. It contains images in two main formats:\n",
    "\n",
    "1. EuroSAT: This folder contains images in RGB format (red, green, blue), which were collected from the Sentinel dataset.\n",
    "\n",
    "2. EuroSATallBands: This folder contains files in .tif format, which include all spectral bands collected from the Sentinel-2 satellite. These encompass a wider range of spectral data than just RGB.\n",
    "\n",
    "Each image in this dataset is 64x64 pixels in size and is sampled at a distance of 10 meters. The EuroSat dataset is used for land use classification based on geospatial images, where the goal is to determine the top two land use categories in an image."
   ]
  },
  {
   "cell_type": "markdown",
   "metadata": {},
   "source": [
    "The two directories contain classifications of images from the EuroSat dataset based on land cover types. Each land cover category has been assigned to one of these folders. Here are descriptions of individual categories:\n",
    "\n",
    "- **AnnualCrop**: Areas of agricultural crops where plants are cultivated for one year.\n",
    "- **Forest**: Forested areas covered with trees.\n",
    "- **HerbaceousVegetation**: Areas of green vegetation dominated by herbaceous plants.\n",
    "- **Highway**: Areas of highways or motorways.\n",
    "- **Industrial**: Industrial areas or industrial sites.\n",
    "- **Pasture**: Pastures or areas used for grazing livestock.\n",
    "- **PermanentCrop**: Permanent agricultural crops that are typically not harvested after one season.\n",
    "- **Residential**: Residential areas, with residential buildings or urban infrastructure.\n",
    "- **River**: Areas of rivers or streams.\n",
    "- **SeaLake**: Areas of seas or lakes.\n",
    "\n",
    "These categories describe various types of land use represented in the EuroSat dataset. Classifying images based on these categories enables analysis and understanding of changes in the environment and land use in different geographic areas.\n"
   ]
  },
  {
   "cell_type": "markdown",
   "metadata": {},
   "source": [
    "## About Tile2vec model"
   ]
  },
  {
   "cell_type": "markdown",
   "metadata": {},
   "source": [
    "The Tile2vec model is a data representation technique that utilizes deep learning to generate vector representations for tiles in satellite images or maps. The name \"Tile2vec\" is a reference to the popular natural language processing (NLP) model Word2vec, which generates vector representations of words based on the context of their occurrences.\n",
    "\n",
    "The idea behind the Tile2vec model is that neighboring tiles in an image tend to represent similar features. For example, adjacent tiles may contain similar information about land types or environmental features. The Tile2vec model uses neural networks to learn representations of tiles based on these patterns.\n",
    "\n",
    "The process can be divided into several main steps:\n",
    "\n",
    "1. **Data Preparation**: Initially, satellite images or maps are divided into smaller tiles of a fixed size. These tiles serve as the basic units of analysis.\n",
    "\n",
    "2. **Context Construction**: Next, for each tile, a context is created by obtaining a specified number of neighboring tiles. This context may include tiles located on the sides, above, below, or around the given tile.\n",
    "\n",
    "3. **Learning Representations**: The Tile2vec model employs a neural network to learn vector representations for tiles based on their context. The network is trained in such a way that tiles with similar contexts have similar vector representations. This means that tiles occurring in similar contexts in the image should have similar vector representations.\n",
    "\n",
    "4. **Application in Tasks**: After training the Tile2vec model, the obtained vector representations can be used for various image analysis tasks. For example, they can be used for terrain classification, change detection, image segmentation, and even generating new maps with high resolution."
   ]
  },
  {
   "cell_type": "markdown",
   "metadata": {},
   "source": [
    "## About project"
   ]
  },
  {
   "cell_type": "markdown",
   "metadata": {},
   "source": [
    "\n",
    "During the project, we will focus on applying the Tile2vec model to the EurosatallBands dataset, which includes multispectral images."
   ]
  },
  {
   "cell_type": "code",
   "execution_count": 3,
   "metadata": {},
   "outputs": [],
   "source": [
    "import pandas as pd\n",
    "import numpy as np\n",
    "import matplotlib.pyplot as plt\n",
    "import seaborn as sns\n",
    "import sys\n",
    "sys.path.append(\"..\")\n"
   ]
  },
  {
   "cell_type": "code",
   "execution_count": 6,
   "metadata": {},
   "outputs": [],
   "source": [
    "data = pd.read_csv('/storage/EuroSATallBands/train.csv')\n"
   ]
  },
  {
   "cell_type": "code",
   "execution_count": 9,
   "metadata": {},
   "outputs": [
    {
     "name": "stdout",
     "output_type": "stream",
     "text": [
      "                                            Filename  Label  \\\n",
      "0               PermanentCrop/PermanentCrop_2401.tif      6   \n",
      "1               PermanentCrop/PermanentCrop_1006.tif      6   \n",
      "2  HerbaceousVegetation/HerbaceousVegetation_1025...      2   \n",
      "3                           SeaLake/SeaLake_1439.tif      9   \n",
      "4                               River/River_1052.tif      8   \n",
      "\n",
      "              ClassName  \n",
      "0         PermanentCrop  \n",
      "1         PermanentCrop  \n",
      "2  HerbaceousVegetation  \n",
      "3               SeaLake  \n",
      "4                 River  \n",
      "              Label\n",
      "count  19317.000000\n",
      "mean       4.524667\n",
      "std        3.014749\n",
      "min        0.000000\n",
      "25%        2.000000\n",
      "50%        4.000000\n",
      "75%        7.000000\n",
      "max        9.000000\n",
      "Filename     0\n",
      "Label        0\n",
      "ClassName    0\n",
      "dtype: int64\n"
     ]
    },
    {
     "data": {
      "image/png": "[encoded data removed]",
      "text/plain": [
       "<Figure size 640x480 with 1 Axes>"
      ]
     },
     "metadata": {},
     "output_type": "display_data"
    }
   ],
   "source": [
    "# Display the first few rows of the dataset\n",
    "print(data.head())\n",
    "\n",
    "# Get the summary statistics of the dataset\n",
    "print(data.describe())\n",
    "\n",
    "# Check for missing values\n",
    "print(data.isnull().sum())\n",
    "\n",
    "# Visualize the distribution of the labels\n",
    "sns.countplot(x='Label', data=data)\n",
    "plt.title('Label Distribution')\n",
    "plt.show()"
   ]
  },
  {
   "cell_type": "code",
   "execution_count": null,
   "metadata": {},
   "outputs": [],
   "source": []
  }
 ],
 "metadata": {
  "kernelspec": {
   "display_name": "tile2vec",
   "language": "python",
   "name": "python3"
  },
  "language_info": {
   "codemirror_mode": {
    "name": "ipython",
    "version": 3
   },
   "file_extension": ".py",
   "mimetype": "text/x-python",
   "name": "python",
   "nbconvert_exporter": "python",
   "pygments_lexer": "ipython3",
   "version": "3.12.2"
  }
 },
 "nbformat": 4,
 "nbformat_minor": 2
}
