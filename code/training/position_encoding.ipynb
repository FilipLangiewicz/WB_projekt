{
 "cells": [
  {
   "cell_type": "markdown",
   "metadata": {},
   "source": [
    "# Geo-encoding\n",
    "\n",
    "I want to leverage the geographical position of the image into the tiles. To do so, I will change the way of sampling the tiles. I want to sample anchor as before, but neighbor and distant tile should be sampled from images that are indeed"
   ]
  },
  {
   "cell_type": "code",
   "execution_count": null,
   "metadata": {},
   "outputs": [],
   "source": []
  }
 ],
 "metadata": {
  "language_info": {
   "name": "python"
  }
 },
 "nbformat": 4,
 "nbformat_minor": 2
}
